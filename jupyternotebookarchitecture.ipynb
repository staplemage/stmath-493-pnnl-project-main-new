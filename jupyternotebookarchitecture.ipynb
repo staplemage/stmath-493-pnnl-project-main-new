{
 "cells": [
  {
   "cell_type": "code",
   "execution_count": 3,
   "metadata": {},
   "outputs": [],
   "source": [
    "#Training the image classifier\n",
    "import torch\n",
    "import torchvision\n",
    "import torchvision.transforms as transforms\n",
    "from Bio.Seq import Seq\n",
    "import os\n",
    "import glob\n",
    "import pathlib\n",
    "import pickle\n",
    "import numpy as np\n"
   ]
  },
  {
   "cell_type": "code",
   "execution_count": 4,
   "metadata": {},
   "outputs": [
    {
     "name": "stdout",
     "output_type": "stream",
     "text": [
      "(351744, 1, 64, 64)\n",
      "[[[15 15 14 ...  4  0  6]\n",
      "  [13  6 13 ...  4  2 14]\n",
      "  [10 12  3 ... 11 11  9]\n",
      "  ...\n",
      "  [13  7  5 ...  7  4  1]\n",
      "  [11  9  6 ...  4  1  8]\n",
      "  [ 3  3  0 ... 13  4  3]]]\n",
      "[[[15 15 14 ...  4  0  6]\n",
      "  [13  6 13 ...  4  2 14]\n",
      "  [10 12  3 ... 11 11  9]\n",
      "  ...\n",
      "  [13  7  5 ...  7  4  1]\n",
      "  [11  9  6 ...  4  1  8]\n",
      "  [ 3  3  0 ... 13  4  3]]]\n",
      "351744\n"
     ]
    }
   ],
   "source": [
    "strep_train = pickle.load(open('C:\\\\Users\\\\patri\\\\Desktop\\\\pnnl single position here\\\\training data\\\\strep_train.txt', 'rb'))\n",
    "lacto_train = pickle.load(open('C:\\\\Users\\\\patri\\\\Desktop\\\\pnnl single position here\\\\training data\\\\lacto_train.txt', 'rb'))\n",
    "bac_train = pickle.load(open('C:\\\\Users\\\\patri\\\\Desktop\\\\pnnl single position here\\\\training data\\\\bac_train.txt', 'rb'))\n",
    "pseudo_train = pickle.load(open('C:\\\\Users\\\\patri\\\\Desktop\\\\pnnl single position here\\\\training data\\\\pseudo_train.txt', 'rb'))\n",
    "\n",
    "strep_train_array = np.asarray(strep_train)\n",
    "strep_train_array = np.reshape(strep_train_array, [len(strep_train_array), 1, 64, 64])\n",
    "# print(strep_train_array.shape)\n",
    "\n",
    "lacto_train_array = np.asarray(lacto_train)\n",
    "lacto_train_array = np.reshape(lacto_train_array, [len(lacto_train_array), 1, 64, 64])\n",
    "# print(lacto_train_array.shape)\n",
    "\n",
    "bac_train_array = np.asarray(bac_train)\n",
    "bac_train_array = np.reshape(bac_train_array, [len(bac_train_array), 1, 64, 64])\n",
    "# print(bac_train_array.shape)\n",
    "\n",
    "pseudo_train_array = np.asarray(pseudo_train)\n",
    "pseudo_train_array = np.reshape(pseudo_train_array, [len(pseudo_train_array), 1, 64, 64])\n",
    "# print(pseudo_train_array.shape)\n",
    "\n",
    "train_full_list = np.concatenate((strep_train_array, lacto_train_array, bac_train_array, pseudo_train_array))\n",
    "\n",
    "print(train_full_list.shape)\n",
    "\n",
    "print(strep_train_array[5])\n",
    "\n",
    "print(train_full_list[5])\n",
    "\n",
    "label_bac = np.ones(len(bac_train_array)) * 1\n",
    "label_lacto = np.ones(len(lacto_train_array)) * 2\n",
    "label_pseudo = np.ones(len(pseudo_train_array)) * 3\n",
    "label_strep = np.ones(len(strep_train_array)) * 4\n",
    "\n",
    "train_label_list = np.concatenate((label_strep, label_lacto, label_bac, label_pseudo))\n",
    "\n",
    "print(len(train_label_list))"
   ]
  },
  {
   "cell_type": "code",
   "execution_count": 5,
   "metadata": {},
   "outputs": [
    {
     "name": "stdout",
     "output_type": "stream",
     "text": [
      "(5737, 1, 64, 64)\n",
      "(1873, 1, 64, 64)\n",
      "(15115, 1, 64, 64)\n",
      "(17877, 1, 64, 64)\n",
      "(40602, 1, 64, 64)\n",
      "[[[13  6 12 ...  9  7  6]\n",
      "  [15 12  3 ...  4  2 12]\n",
      "  [ 3  2 12 ...  3  0  5]\n",
      "  ...\n",
      "  [ 8  1  9 ...  0  6 15]\n",
      "  [15 14 10 ...  6 15 15]\n",
      "  [15 15 13 ...  7  4  1]]]\n",
      "[[[13  6 12 ...  9  7  6]\n",
      "  [15 12  3 ...  4  2 12]\n",
      "  [ 3  2 12 ...  3  0  5]\n",
      "  ...\n",
      "  [ 8  1  9 ...  0  6 15]\n",
      "  [15 14 10 ...  6 15 15]\n",
      "  [15 15 13 ...  7  4  1]]]\n"
     ]
    }
   ],
   "source": [
    "strep_test = pickle.load(open('C:\\\\Users\\\\patri\\\\Desktop\\\\pnnl single position here\\\\testing data\\\\strep_test.txt', 'rb'))\n",
    "lacto_test = pickle.load(open('C:\\\\Users\\\\patri\\\\Desktop\\\\pnnl single position here\\\\testing data\\\\lacto_test.txt', 'rb'))\n",
    "bac_test = pickle.load(open('C:\\\\Users\\\\patri\\\\Desktop\\\\pnnl single position here\\\\testing data\\\\bac_test.txt', 'rb'))\n",
    "pseudo_test = pickle.load(open('C:\\\\Users\\\\patri\\\\Desktop\\\\pnnl single position here\\\\testing data\\\\pseudo_test.txt', 'rb'))\n",
    "\n",
    "strep_test_array = np.asarray(strep_test)\n",
    "strep_test_array = np.reshape(strep_test_array, [len(strep_test_array), 1, 64, 64])\n",
    "print(strep_test_array.shape)\n",
    "\n",
    "lacto_test_array = np.asarray(lacto_test)\n",
    "lacto_test_array = np.reshape(lacto_test_array, [len(lacto_test_array), 1, 64, 64])\n",
    "print(lacto_test_array.shape)\n",
    "\n",
    "bac_test_array = np.asarray(bac_test)\n",
    "bac_test_array = np.reshape(bac_test_array, [len(bac_test_array), 1, 64, 64])\n",
    "print(bac_test_array.shape)\n",
    "\n",
    "pseudo_test_array = np.asarray(pseudo_test)\n",
    "pseudo_test_array = np.reshape(pseudo_test_array, [len(pseudo_test_array), 1, 64, 64])\n",
    "print(pseudo_test_array.shape)\n",
    "\n",
    "test_full_list = np.concatenate((strep_test_array, lacto_test_array, bac_test_array, pseudo_test_array))\n",
    "\n",
    "# print(test_full_list.shape)\n",
    "\n",
    "# print(strep_test_array[5])\n",
    "\n",
    "# print(test_full_list[5])\n",
    "\n",
    "label_bac = np.ones(len(bac_test_array)) * 1\n",
    "label_lacto = np.ones(len(lacto_test_array)) * 2\n",
    "label_pseudo = np.ones(len(pseudo_test_array)) * 3\n",
    "label_strep = np.ones(len(strep_test_array)) * 4\n",
    "\n",
    "test_label_list = np.concatenate((label_strep, label_lacto, label_bac, label_pseudo))"
   ]
  },
  {
   "cell_type": "code",
   "execution_count": 13,
   "metadata": {},
   "outputs": [
    {
     "ename": "MemoryError",
     "evalue": "Unable to allocate 5.37 GiB for an array with shape (351744, 1, 64, 64) and data type int32",
     "output_type": "error",
     "traceback": [
      "\u001b[1;31m---------------------------------------------------------------------------\u001b[0m",
      "\u001b[1;31mMemoryError\u001b[0m                               Traceback (most recent call last)",
      "Cell \u001b[1;32mIn[13], line 5\u001b[0m\n\u001b[0;32m      2\u001b[0m \u001b[38;5;28;01mfrom\u001b[39;00m \u001b[38;5;21;01mtorch\u001b[39;00m\u001b[38;5;21;01m.\u001b[39;00m\u001b[38;5;21;01mutils\u001b[39;00m\u001b[38;5;21;01m.\u001b[39;00m\u001b[38;5;21;01mdata\u001b[39;00m \u001b[38;5;28;01mimport\u001b[39;00m TensorDataset, DataLoader\n\u001b[0;32m      4\u001b[0m \u001b[38;5;66;03m# use x_train and y_train as numpy array without further modification\u001b[39;00m\n\u001b[1;32m----> 5\u001b[0m x_train \u001b[38;5;241m=\u001b[39m \u001b[43mnp\u001b[49m\u001b[38;5;241;43m.\u001b[39;49m\u001b[43marray\u001b[49m\u001b[43m(\u001b[49m\u001b[43mtrain_full_list\u001b[49m\u001b[43m)\u001b[49m\n\u001b[0;32m      6\u001b[0m y_train \u001b[38;5;241m=\u001b[39m np\u001b[38;5;241m.\u001b[39marray(train_label_list)\n\u001b[0;32m      8\u001b[0m \u001b[38;5;66;03m# convert to numpys to tensor\u001b[39;00m\n",
      "\u001b[1;31mMemoryError\u001b[0m: Unable to allocate 5.37 GiB for an array with shape (351744, 1, 64, 64) and data type int32"
     ]
    }
   ],
   "source": [
    "# training dataset assembly\n",
    "from torch.utils.data import TensorDataset, DataLoader\n",
    "\n",
    "# use x_train and y_train as numpy array without further modification\n",
    "x_train = np.array(train_full_list)\n",
    "y_train = np.array(train_label_list)\n",
    "\n",
    "# convert to numpys to tensor\n",
    "tensor_x = torch.Tensor(x_train) \n",
    "tensor_y = torch.Tensor(y_train)\n",
    "# create the dataset\n",
    "custom_dataset = TensorDataset(tensor_x,tensor_y) \n",
    "# create your dataloader\n",
    "my_dataloader = DataLoader(custom_dataset,batch_size=1) \n",
    "\n",
    "#check if you can get the desired things\n",
    "i1, l1 = next(iter(my_dataloader))\n",
    "print(i1.shape)   # torch.Size([1, 1, 28, 28]) \n",
    "print(l1.shape)   # torch.Size([1]) \n"
   ]
  },
  {
   "cell_type": "code",
   "execution_count": 1,
   "metadata": {},
   "outputs": [
    {
     "ename": "NameError",
     "evalue": "name 'np' is not defined",
     "output_type": "error",
     "traceback": [
      "\u001b[1;31m---------------------------------------------------------------------------\u001b[0m",
      "\u001b[1;31mNameError\u001b[0m                                 Traceback (most recent call last)",
      "Cell \u001b[1;32mIn[1], line 5\u001b[0m\n\u001b[0;32m      2\u001b[0m \u001b[38;5;28;01mfrom\u001b[39;00m \u001b[38;5;21;01mtorch\u001b[39;00m\u001b[38;5;21;01m.\u001b[39;00m\u001b[38;5;21;01mutils\u001b[39;00m\u001b[38;5;21;01m.\u001b[39;00m\u001b[38;5;21;01mdata\u001b[39;00m \u001b[38;5;28;01mimport\u001b[39;00m TensorDataset, DataLoader\n\u001b[0;32m      4\u001b[0m \u001b[38;5;66;03m# use x_train and y_train as numpy array without further modification\u001b[39;00m\n\u001b[1;32m----> 5\u001b[0m x_test \u001b[38;5;241m=\u001b[39m \u001b[43mnp\u001b[49m\u001b[38;5;241m.\u001b[39marray(test_full_list)\n\u001b[0;32m      6\u001b[0m y_test \u001b[38;5;241m=\u001b[39m np\u001b[38;5;241m.\u001b[39marray(test_label_list)\n\u001b[0;32m      8\u001b[0m \u001b[38;5;66;03m# convert to numpys to tensor\u001b[39;00m\n",
      "\u001b[1;31mNameError\u001b[0m: name 'np' is not defined"
     ]
    }
   ],
   "source": [
    "# fix to custom dataset work?\n",
    "from torch.utils.data import TensorDataset, DataLoader\n",
    "\n",
    "# use x_train and y_train as numpy array without further modification\n",
    "x_test = np.array(test_full_list)\n",
    "y_test = np.array(test_label_list)\n",
    "\n",
    "# convert to numpys to tensor\n",
    "tensor_x1 = torch.Tensor(x_test) \n",
    "tensor_y1 = torch.Tensor(y_test)\n",
    "# create the dataset\n",
    "custom_test_dataset = TensorDataset(tensor_x1,tensor_y1) \n",
    "# create your dataloader\n",
    "my_test_dataloader = DataLoader(custom_dataset,batch_size=1) \n",
    "\n",
    "#check if you can get the desired things\n",
    "i2, l2 = next(iter(my_test_dataloader))\n",
    "print(i2.shape)   # torch.Size([1, 1, 28, 28]) \n",
    "print(l2.shape)   # torch.Size([1]) "
   ]
  },
  {
   "cell_type": "code",
   "execution_count": null,
   "metadata": {},
   "outputs": [],
   "source": [
    "transform = transforms.Compose(\n",
    "    [transforms.ToTensor(),\n",
    "     transforms.Normalize((0.5, 0.5, 0.5), (0.5, 0.5, 0.5))])\n",
    "\n",
    "batch_size = 64\n",
    "\n",
    "trainset = torchvision.datasets.custom_dataset(custom_dataset, train=True,\n",
    "                                        download=True, transform=transform)\n",
    "trainloader = torch.utils.data.DataLoader(trainset, batch_size=batch_size,\n",
    "                                          shuffle=True, num_workers=2)\n",
    "\n",
    "testset = torchvision.datasets.custom_dataset(root='./data', train=False,\n",
    "                                       download=True, transform=transform)\n",
    "testloader = torch.utils.data.DataLoader(testset, batch_size=batch_size,\n",
    "                                         shuffle=False, num_workers=2)\n",
    "\n",
    "classes = ('streptococcus', 'bacillus', 'lactobacaillus', 'pseudomonas')"
   ]
  },
  {
   "cell_type": "code",
   "execution_count": null,
   "metadata": {},
   "outputs": [],
   "source": [
    "import matplotlib.pyplot as plt\n",
    "import numpy as np"
   ]
  },
  {
   "cell_type": "code",
   "execution_count": null,
   "metadata": {},
   "outputs": [],
   "source": [
    "# shows image, likely unneeded\n",
    "def imshow(img):\n",
    "    img = img / 2 + 0.5     # unnormalize\n",
    "    npimg = img.numpy()\n",
    "    plt.imshow(np.transpose(npimg, (1, 2, 0)))\n",
    "    plt.show()"
   ]
  },
  {
   "cell_type": "code",
   "execution_count": null,
   "metadata": {},
   "outputs": [],
   "source": [
    "# get some random training images\n",
    "dataiter = iter(trainloader)\n",
    "images, labels = next(dataiter)\n",
    "\n",
    "# show images\n",
    "imshow(torchvision.utils.make_grid(images))\n",
    "# print labels\n",
    "print(' '.join(f'{classes[labels[j]]:5s}' for j in range(batch_size)))"
   ]
  },
  {
   "cell_type": "code",
   "execution_count": null,
   "metadata": {},
   "outputs": [],
   "source": [
    "import torch.nn as nn\n",
    "import torch.nn.functional as F\n",
    "\n",
    "\n",
    "class Net(nn.Module):\n",
    "    def __init__(self):\n",
    "        super().__init__()\n",
    "        self.conv1 = nn.Conv2d(3, 6, 5)\n",
    "        self.pool = nn.MaxPool2d(2, 2)\n",
    "        self.conv2 = nn.Conv2d(6, 16, 5)\n",
    "        self.fc1 = nn.Linear(16 * 5 * 5, 120)\n",
    "        self.fc2 = nn.Linear(120, 84)\n",
    "        self.fc3 = nn.Linear(84, 10)\n",
    "\n",
    "    def forward(self, x):\n",
    "        x = self.pool(F.relu(self.conv1(x)))\n",
    "        x = self.pool(F.relu(self.conv2(x)))\n",
    "        x = torch.flatten(x, 1) # flatten all dimensions except batch\n",
    "        x = F.relu(self.fc1(x))\n",
    "        x = F.relu(self.fc2(x))\n",
    "        x = self.fc3(x)\n",
    "        return x\n",
    "\n",
    "\n",
    "net = Net()"
   ]
  },
  {
   "cell_type": "code",
   "execution_count": null,
   "metadata": {},
   "outputs": [],
   "source": [
    "import torch.optim as optim\n",
    "\n",
    "criterion = nn.CrossEntropyLoss()\n",
    "optimizer = optim.SGD(net.parameters(), lr=0.001, momentum=0.9)"
   ]
  },
  {
   "cell_type": "code",
   "execution_count": null,
   "metadata": {},
   "outputs": [],
   "source": [
    "for epoch in range(2):  # loop over the dataset multiple times\n",
    "\n",
    "    running_loss = 0.0\n",
    "    for i, data in enumerate(trainloader, 0):\n",
    "        # get the inputs; data is a list of [inputs, labels]\n",
    "        inputs, labels = data\n",
    "\n",
    "        # zero the parameter gradients\n",
    "        optimizer.zero_grad()\n",
    "\n",
    "        # forward + backward + optimize\n",
    "        outputs = net(inputs)\n",
    "        loss = criterion(outputs, labels)\n",
    "        loss.backward()\n",
    "        optimizer.step()\n",
    "\n",
    "        # print statistics\n",
    "        running_loss += loss.item()\n",
    "        if i % 2000 == 1999:    # print every 2000 mini-batches\n",
    "            print(f'[{epoch + 1}, {i + 1:5d}] loss: {running_loss / 2000:.3f}')\n",
    "            running_loss = 0.0\n",
    "\n",
    "print('Finished Training')"
   ]
  },
  {
   "cell_type": "code",
   "execution_count": null,
   "metadata": {},
   "outputs": [],
   "source": [
    "PATH = './cifar_net.pth'\n",
    "torch.save(net.state_dict(), PATH)"
   ]
  },
  {
   "cell_type": "code",
   "execution_count": null,
   "metadata": {},
   "outputs": [],
   "source": [
    "dataiter = iter(testloader)\n",
    "images, labels = next(dataiter)\n",
    "\n",
    "# print images\n",
    "imshow(torchvision.utils.make_grid(images))\n",
    "print('GroundTruth: ', ' '.join(f'{classes[labels[j]]:5s}' for j in range(4)))"
   ]
  },
  {
   "cell_type": "code",
   "execution_count": null,
   "metadata": {},
   "outputs": [],
   "source": [
    "net = Net()\n",
    "net.load_state_dict(torch.load(PATH))"
   ]
  },
  {
   "cell_type": "code",
   "execution_count": null,
   "metadata": {},
   "outputs": [],
   "source": [
    "outputs = net(images)"
   ]
  },
  {
   "cell_type": "code",
   "execution_count": null,
   "metadata": {},
   "outputs": [],
   "source": [
    "_, predicted = torch.max(outputs, 1)\n",
    "\n",
    "print('Predicted: ', ' '.join(f'{classes[predicted[j]]:5s}'\n",
    "                              for j in range(4)))"
   ]
  },
  {
   "cell_type": "code",
   "execution_count": null,
   "metadata": {},
   "outputs": [],
   "source": [
    "correct = 0\n",
    "total = 0\n",
    "# since we're not training, we don't need to calculate the gradients for our outputs\n",
    "with torch.no_grad():\n",
    "    for data in testloader:\n",
    "        images, labels = data\n",
    "        # calculate outputs by running images through the network\n",
    "        outputs = net(images)\n",
    "        # the class with the highest energy is what we choose as prediction\n",
    "        _, predicted = torch.max(outputs.data, 1)\n",
    "        total += labels.size(0)\n",
    "        correct += (predicted == labels).sum().item()\n",
    "\n",
    "print(f'Accuracy of the network on the 10000 test images: {100 * correct // total} %')"
   ]
  },
  {
   "cell_type": "code",
   "execution_count": null,
   "metadata": {},
   "outputs": [],
   "source": [
    "# prepare to count predictions for each class\n",
    "correct_pred = {classname: 0 for classname in classes}\n",
    "total_pred = {classname: 0 for classname in classes}\n",
    "\n",
    "# again no gradients needed\n",
    "with torch.no_grad():\n",
    "    for data in testloader:\n",
    "        images, labels = data\n",
    "        outputs = net(images)\n",
    "        _, predictions = torch.max(outputs, 1)\n",
    "        # collect the correct predictions for each class\n",
    "        for label, prediction in zip(labels, predictions):\n",
    "            if label == prediction:\n",
    "                correct_pred[classes[label]] += 1\n",
    "            total_pred[classes[label]] += 1\n",
    "\n",
    "\n",
    "# print accuracy for each class\n",
    "for classname, correct_count in correct_pred.items():\n",
    "    accuracy = 100 * float(correct_count) / total_pred[classname]\n",
    "    print(f'Accuracy for class: {classname:5s} is {accuracy:.1f} %')"
   ]
  },
  {
   "cell_type": "code",
   "execution_count": null,
   "metadata": {},
   "outputs": [],
   "source": [
    "device = torch.device('cuda:0' if torch.cuda.is_available() else 'cpu')\n",
    "\n",
    "# Assuming that we are on a CUDA machine, this should print a CUDA device:\n",
    "\n",
    "print(device)"
   ]
  },
  {
   "cell_type": "code",
   "execution_count": null,
   "metadata": {},
   "outputs": [],
   "source": [
    "net.to(device)"
   ]
  },
  {
   "cell_type": "code",
   "execution_count": null,
   "metadata": {},
   "outputs": [],
   "source": [
    "inputs, labels = data[0].to(device), data[1].to(device)"
   ]
  }
 ],
 "metadata": {
  "kernelspec": {
   "display_name": "Python 3",
   "language": "python",
   "name": "python3"
  },
  "language_info": {
   "codemirror_mode": {
    "name": "ipython",
    "version": 3
   },
   "file_extension": ".py",
   "mimetype": "text/x-python",
   "name": "python",
   "nbconvert_exporter": "python",
   "pygments_lexer": "ipython3",
   "version": "3.12.3"
  }
 },
 "nbformat": 4,
 "nbformat_minor": 2
}
